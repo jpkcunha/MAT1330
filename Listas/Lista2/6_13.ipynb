{
 "cells": [
  {
   "cell_type": "markdown",
   "metadata": {},
   "source": [
    "# Exercise 6.13. Compare the efficacy of two-class cost functions I"
   ]
  },
  {
   "cell_type": "code",
   "execution_count": 1,
   "metadata": {},
   "outputs": [],
   "source": [
    "import numpy as np\n",
    "import matplotlib.pyplot as plt"
   ]
  },
  {
   "cell_type": "code",
   "execution_count": 4,
   "metadata": {},
   "outputs": [],
   "source": [
    "datapath = r'https://raw.githubusercontent.com/jermwatt/machine_learning_refined/602412f222afe4d5497472037b0e62002d5a1d65/exercises/ed_2/mlrefined_datasets/superlearn_datasets/'"
   ]
  },
  {
   "cell_type": "code",
   "execution_count": 5,
   "metadata": {},
   "outputs": [
    {
     "name": "stdout",
     "output_type": "stream",
     "text": [
      "(8, 699)\n",
      "(1, 699)\n"
     ]
    }
   ],
   "source": [
    "# data input\n",
    "csvname = datapath + '/breast_cancer_data.csv'\n",
    "data = np.loadtxt(csvname,delimiter = ',')\n",
    "\n",
    "# get input and output of dataset\n",
    "x = data[:-1,:]\n",
    "y = data[-1:,:] \n",
    "\n",
    "print(np.shape(x))\n",
    "print(np.shape(y))"
   ]
  },
  {
   "cell_type": "code",
   "execution_count": 6,
   "metadata": {},
   "outputs": [
    {
     "name": "stdout",
     "output_type": "stream",
     "text": [
      "(699, 9)\n",
      "(699,)\n"
     ]
    }
   ],
   "source": [
    "X_train = np.vstack( (x, np.ones((1,np.shape(x)[1]))) ).transpose()\n",
    "Y_train = y[0]\n",
    "print(np.shape(X_train))\n",
    "print(np.shape(Y_train))"
   ]
  },
  {
   "cell_type": "code",
   "execution_count": 7,
   "metadata": {},
   "outputs": [],
   "source": [
    "def relu(t):\n",
    "    return np.maximum(0,t)"
   ]
  },
  {
   "cell_type": "code",
   "execution_count": 8,
   "metadata": {},
   "outputs": [],
   "source": [
    "def relu_gradient(X,Y,w):\n",
    "    gradient = np.zeros(len(w))\n",
    "    for i in range(X.shape[0]):\n",
    "        if Y[i]*np.dot(X[i,:],w) < 0:\n",
    "            gradient += -Y[i]*X[i,:]\n",
    "    return gradient/X.shape[0]"
   ]
  },
  {
   "cell_type": "code",
   "execution_count": 9,
   "metadata": {},
   "outputs": [],
   "source": [
    "def relu_cost(X,Y,w):\n",
    "    cost = 0\n",
    "    for i in range(X.shape[0]):\n",
    "        cost += relu( -Y[i] * np.dot(X[i,:],w) )\n",
    "    return cost/X.shape[0]"
   ]
  },
  {
   "cell_type": "code",
   "execution_count": 10,
   "metadata": {},
   "outputs": [],
   "source": [
    "def relu_gradient_decent(X,Y,w_start,step_size,max_its):\n",
    "    w = w_start\n",
    "    for _ in range(max_its):\n",
    "        grad = relu_gradient(X,Y,w)\n",
    "        w = w - step_size*grad\n",
    "    return w/X.shape[0]"
   ]
  },
  {
   "cell_type": "code",
   "execution_count": 11,
   "metadata": {},
   "outputs": [],
   "source": [
    "def soft_max(t):\n",
    "    return np.log(1+np.exp(t))"
   ]
  },
  {
   "cell_type": "code",
   "execution_count": 12,
   "metadata": {},
   "outputs": [],
   "source": [
    "def soft_max_cost(X,Y,w):\n",
    "    cost = 0\n",
    "    for i in range(X.shape[0]):\n",
    "        cost += soft_max( -Y[i] * np.dot(X[i,:],w) )\n",
    "    return cost/X.shape[1]"
   ]
  },
  {
   "cell_type": "code",
   "execution_count": 13,
   "metadata": {},
   "outputs": [],
   "source": [
    "def soft_max_gradient(X,Y,w):\n",
    "    gradient = np.zeros(len(w))\n",
    "    for i in range(X.shape[0]):\n",
    "        gradient += -Y[i]* X[i,:]/(1+np.exp(Y[i]*np.dot(X[i,:],w)))\n",
    "    return gradient/X.shape[0]"
   ]
  },
  {
   "cell_type": "code",
   "execution_count": 14,
   "metadata": {},
   "outputs": [],
   "source": [
    "def soft_max_gradient_decent(X,Y,w_start,step_size,max_its):\n",
    "    w = w_start\n",
    "    for _ in range(max_its):\n",
    "        grad = soft_max_gradient(X,Y,w)\n",
    "        w = w - step_size*grad\n",
    "    return w"
   ]
  },
  {
   "cell_type": "code",
   "execution_count": 15,
   "metadata": {},
   "outputs": [
    {
     "name": "stderr",
     "output_type": "stream",
     "text": [
      "C:\\Users\\joaop\\AppData\\Local\\Temp\\ipykernel_11228\\26878494.py:4: RuntimeWarning: overflow encountered in exp\n",
      "  gradient += -Y[i]* X[i,:]/(1+np.exp(Y[i]*np.dot(X[i,:],w)))\n"
     ]
    }
   ],
   "source": [
    "w_start = np.ones(9)\n",
    "step_size = 10\n",
    "max_its = 1000\n",
    "w_relu = relu_gradient_decent(X_train,Y_train,w_start,step_size,max_its)\n",
    "w_sm = soft_max_gradient_decent(X_train,Y_train,w_start,step_size,max_its)\n"
   ]
  },
  {
   "cell_type": "code",
   "execution_count": 16,
   "metadata": {},
   "outputs": [],
   "source": [
    "def count_miss_classification(X,Y,w):\n",
    "    count = 0\n",
    "    for i in range(X.shape[0]):\n",
    "        if np.sign(np.dot(X[i,:],w)) != Y[i]:\n",
    "            count += 1\n",
    "    return count"
   ]
  },
  {
   "cell_type": "code",
   "execution_count": 17,
   "metadata": {},
   "outputs": [
    {
     "name": "stdout",
     "output_type": "stream",
     "text": [
      "Miss classification:\n",
      "Vetor otimizado por ReLu:  21\n",
      "Vetor otimizado por SoftMax:  22\n"
     ]
    }
   ],
   "source": [
    "print('Miss classification:')\n",
    "print('Vetor otimizado por ReLu: ', count_miss_classification(X_train,Y_train,w_relu))\n",
    "print('Vetor otimizado por SoftMax: ', count_miss_classification(X_train,Y_train,w_sm))"
   ]
  },
  {
   "cell_type": "code",
   "execution_count": null,
   "metadata": {},
   "outputs": [],
   "source": []
  },
  {
   "cell_type": "code",
   "execution_count": null,
   "metadata": {},
   "outputs": [],
   "source": []
  },
  {
   "cell_type": "code",
   "execution_count": null,
   "metadata": {},
   "outputs": [],
   "source": []
  }
 ],
 "metadata": {
  "kernelspec": {
   "display_name": "base",
   "language": "python",
   "name": "python3"
  },
  "language_info": {
   "codemirror_mode": {
    "name": "ipython",
    "version": 3
   },
   "file_extension": ".py",
   "mimetype": "text/x-python",
   "name": "python",
   "nbconvert_exporter": "python",
   "pygments_lexer": "ipython3",
   "version": "3.11.5"
  }
 },
 "nbformat": 4,
 "nbformat_minor": 2
}
