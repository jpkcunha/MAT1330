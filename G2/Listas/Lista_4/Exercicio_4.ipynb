{
 "cells": [
  {
   "cell_type": "markdown",
   "metadata": {},
   "source": [
    "#### 4) Para o modelo do Autoencoder, implemente a função custo (10.53) da pag 296 com as funções não-lineares descritas na página 297 e com os dados gerados pelo código abaixo:"
   ]
  },
  {
   "cell_type": "markdown",
   "metadata": {},
   "source": [
    "##### Pacotes"
   ]
  },
  {
   "cell_type": "code",
   "execution_count": 17,
   "metadata": {},
   "outputs": [],
   "source": [
    "import numpy as np\n",
    "import matplotlib.pyplot as plt\n",
    "import warnings\n",
    "\n",
    "warnings.filterwarnings(\"ignore\")"
   ]
  },
  {
   "cell_type": "markdown",
   "metadata": {},
   "source": [
    "##### Dados"
   ]
  },
  {
   "cell_type": "code",
   "execution_count": 18,
   "metadata": {},
   "outputs": [
    {
     "data": {
      "image/png": "[encoded data removed]",
      "text/plain": [
       "<Figure size 640x480 with 1 Axes>"
      ]
     },
     "metadata": {},
     "output_type": "display_data"
    }
   ],
   "source": [
    "def pontos_2d(P): \n",
    "    np.random.seed(1) \n",
    "    X = [np.zeros(P),np.zeros(P)]\n",
    "    X = np.array(X) \n",
    "    theta = -1.5 \n",
    "    dt = 3.14/P \n",
    "    for i in range(P): \n",
    "        r = 5 + 2 * np.random.random_sample(1) \n",
    "        X[0][i] = r * np.cos(theta) + 2 \n",
    "        X[1][i] = r * np.sin(theta) - 1.2 \n",
    "        theta += dt \n",
    "    return X\n",
    "\n",
    "# Plotando dados\n",
    "P = 100\n",
    "X = pontos_2d(P)\n",
    "plt.scatter(X[0], X[1])\n",
    "plt.show()"
   ]
  },
  {
   "cell_type": "markdown",
   "metadata": {},
   "source": [
    "##### Funções"
   ]
  },
  {
   "cell_type": "code",
   "execution_count": 19,
   "metadata": {},
   "outputs": [],
   "source": [
    "\n",
    "def custo_ponto(x_p,w,r):\n",
    "    res = fd(fe(x_p,w),w,r)\n",
    "    return np.sqrt((res[0]-x_p[0]) ** 2 + (res[1]-x_p[1]) ** 2)\n",
    "\n",
    "def fe(x_p,w):\n",
    "    return np.arctan2(x_p[1] - w[1], x_p[0] - w[0])\n",
    "\n",
    "def fd(theta, w, r):\n",
    "    return [r * np.cos(theta) + w[0], r * np.sin(theta) + w[1]]\n",
    "\n",
    "def custo_medio(X,w,r):\n",
    "    custo = 0\n",
    "    P = X.shape[1]\n",
    "    for i in range(P):\n",
    "        custo_p = custo_ponto(X[:,i],w,r)\n",
    "        custo += custo_p\n",
    "    return custo / P\n"
   ]
  },
  {
   "cell_type": "code",
   "execution_count": 20,
   "metadata": {},
   "outputs": [
    {
     "name": "stdout",
     "output_type": "stream",
     "text": [
      "Resultado: 0.5152174662333217\n"
     ]
    }
   ],
   "source": [
    "w = [2,-1.2]\n",
    "r = 6\n",
    "resultado = custo_medio(X, w, r)\n",
    "print(\"Resultado: {}\".format(resultado))"
   ]
  }
 ],
 "metadata": {
  "kernelspec": {
   "display_name": "base",
   "language": "python",
   "name": "python3"
  },
  "language_info": {
   "codemirror_mode": {
    "name": "ipython",
    "version": 3
   },
   "file_extension": ".py",
   "mimetype": "text/x-python",
   "name": "python",
   "nbconvert_exporter": "python",
   "pygments_lexer": "ipython3",
   "version": "3.11.4"
  }
 },
 "nbformat": 4,
 "nbformat_minor": 2
}
