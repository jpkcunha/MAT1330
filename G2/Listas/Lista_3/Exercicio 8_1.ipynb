{
 "cells": [
  {
   "cell_type": "code",
   "execution_count": 2,
   "metadata": {},
   "outputs": [],
   "source": [
    "import numpy as np\n",
    "import matplotlib.pyplot as plt\n",
    "from typing import Tuple, Dict, List"
   ]
  },
  {
   "cell_type": "markdown",
   "metadata": {},
   "source": [
    "#### 8.1) The standard basis.\n",
    "\n",
    "Simplify the formula for the optimal weight vector/encoding in Equation\n",
    "(8.11) when using a standard basis"
   ]
  },
  {
   "cell_type": "code",
   "execution_count": 16,
   "metadata": {},
   "outputs": [
    {
     "name": "stdout",
     "output_type": "stream",
     "text": [
      "w: [2.5 3.  4.  1.  5. ]\n",
      "x_p: [2.5 3.  4.  1.  5. ]\n"
     ]
    }
   ],
   "source": [
    "def one_hot_encoder(x_p, C):\n",
    "    w = []\n",
    "    for n in range(len(x_p)):\n",
    "        w.append(x_p[n] * C[n, n])\n",
    "    return np.array(w)\n",
    "\n",
    "K = 5\n",
    "C = []\n",
    "x_p = np.array([2.5, 3, 4, 1, 5])\n",
    "\n",
    "for k in range(5):\n",
    "    c = np.zeros(K)\n",
    "    c[k] = 1\n",
    "    C.append(c)\n",
    "    \n",
    "C = np.array(C)\n",
    "w = one_hot_encoder(x_p, C.T)\n",
    "print(\"w:\", w)\n",
    "print(\"x_p:\", x_p)"
   ]
  },
  {
   "cell_type": "markdown",
   "metadata": {},
   "source": [
    "Logo vemos que a simplificação final é que $w$ = $x_p$ pois $C$ é uma matriz diagonal."
   ]
  }
 ],
 "metadata": {
  "kernelspec": {
   "display_name": "Python 3",
   "language": "python",
   "name": "python3"
  },
  "language_info": {
   "codemirror_mode": {
    "name": "ipython",
    "version": 3
   },
   "file_extension": ".py",
   "mimetype": "text/x-python",
   "name": "python",
   "nbconvert_exporter": "python",
   "pygments_lexer": "ipython3",
   "version": "3.11.4"
  }
 },
 "nbformat": 4,
 "nbformat_minor": 2
}
