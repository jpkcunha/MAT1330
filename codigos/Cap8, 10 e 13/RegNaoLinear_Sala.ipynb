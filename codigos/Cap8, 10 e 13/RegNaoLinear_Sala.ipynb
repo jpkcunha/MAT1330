{
 "cells": [
  {
   "cell_type": "code",
   "execution_count": null,
   "id": "2837c591",
   "metadata": {},
   "outputs": [],
   "source": []
  },
  {
   "cell_type": "code",
   "execution_count": 2,
   "id": "b12f42b3",
   "metadata": {},
   "outputs": [],
   "source": [
    "import numpy as np\n",
    "def pontos2d(w,P):\n",
    "    np.random.seed(31)\n",
    "    X = 5*np.random.random_sample(P)\n",
    "    X = np.array(X)\n",
    "    Y = np.sin(X[:])+0.2*np.random.random_sample(P)\n",
    "    return X,Y\n",
    "\n",
    "def f(v,x):\n",
    "    return np.sin(v[0] + v[1]*x)\n",
    "\n",
    "def model(w,v,x_p):\n",
    "    a = w[0] + f(v,x_p)*w[1]\n",
    "    return a"
   ]
  },
  {
   "cell_type": "code",
   "execution_count": 3,
   "id": "c26c9e2d",
   "metadata": {},
   "outputs": [],
   "source": [
    "def NL_regression(w,v,x,y):\n",
    "    P = len(x)\n",
    "    cost = 0\n",
    "    for p in range (P):\n",
    "        cost = cost + (model(w,v,x[p]) - y[p])**2\n",
    "    return cost/P\n",
    "\n",
    "def NL_grad(w,v,x,y):\n",
    "    P = len(x)\n",
    "    grad = np.zeros(4)\n",
    "    for p in range(P):\n",
    "        k = 2 * (model(w,v,x[p]) - y[p])\n",
    "        grad[0] += k\n",
    "        grad[1] += k * f(v,x[p])\n",
    "        grad[2] += k * np.cos(v[0]+x[p]*v[1]) * w[1]\n",
    "        grad[3] += k * np.cos(v[0]+x[p]*v[1]) * w[1] * x[p]\n",
    "    grad = grad / P\n",
    "    return grad\n",
    "\n",
    "def grad_desc(w,v,x,y,alpha,max_its):\n",
    "    w_THETA = [w[0],w[1],v[0],v[1]]\n",
    "    w_THETA = np.array(w_THETA)\n",
    "    w_h = [w_THETA]\n",
    "    cost1 = NL_regression(w,v,x,y)\n",
    "    #print(cost1)\n",
    "    cost_h = [cost1]\n",
    "    for k in range(max_its):\n",
    "        #print(k,w_THETA)\n",
    "        #print(w,v)\n",
    "        w_THETA = w_THETA - alpha * NL_grad(w,v,x,y)\n",
    "        w_h.append(w_THETA)\n",
    "        #print(0,w,v)\n",
    "        w[0] = w_THETA[0]\n",
    "        w[1] = w_THETA[1]\n",
    "        v[0] = w_THETA[2]\n",
    "        v[1] = w_THETA[3]\n",
    "        #print(1,w,v)\n",
    "        cost2 = NL_regression(w,v,x,y)\n",
    "        #print(2,w,v)\n",
    "        cost_h.append(cost2)\n",
    "        print(cost2)\n",
    "        if cost2 > cost1:\n",
    "            alpha = alpha / 10 \n",
    "            print('alpha=',alpha)\n",
    "        cost1 = cost2\n",
    "    return w_h,cost_h"
   ]
  },
  {
   "cell_type": "code",
   "execution_count": 4,
   "id": "20d5a485",
   "metadata": {},
   "outputs": [
    {
     "name": "stdout",
     "output_type": "stream",
     "text": [
      "0.4889580533737108\n",
      "0.20042157240581523\n",
      "0.27648270832104016\n",
      "alpha= 0.1\n",
      "0.24188022699750825\n",
      "0.23704963050340472\n",
      "0.2341585806604251\n",
      "0.23156967200945716\n",
      "0.22921995712458748\n",
      "0.22707933693368876\n",
      "0.2251224154979993\n"
     ]
    }
   ],
   "source": [
    "import matplotlib.pyplot as plt\n",
    "\n",
    "P = 100\n",
    "w = np.array([1.,1.])\n",
    "v = np.array([1.,1.])\n",
    "[X,Y] = pontos2d(w,P)\n",
    "max_its = 2000\n",
    "alpha = 1\n",
    "[w_h,cost_h] = grad_desc(w,v,X,Y,alpha,max_its)"
   ]
  },
  {
   "cell_type": "code",
   "execution_count": 5,
   "id": "327d77d5",
   "metadata": {},
   "outputs": [
    {
     "data": {
      "image/png": "[encoded data removed]",
      "text/plain": [
       "<Figure size 288x288 with 1 Axes>"
      ]
     },
     "metadata": {
      "needs_background": "light"
     },
     "output_type": "display_data"
    }
   ],
   "source": [
    "for k in range(1,max_its,50):\n",
    "    plt.figure(figsize = (4,4))\n",
    "    plt.scatter(X,Y,c='b')\n",
    "    x = np.linspace(0,5,100)\n",
    "    w[0] = w_h[k][0]\n",
    "    w[1] = w_h[k][1]\n",
    "    v[0] = w_h[k][2]\n",
    "    v[1] = w_h[k][3]\n",
    "    y = model(w,v,x)\n",
    "    plt.scatter(x,y,c='r')\n",
    "    plt.show()\n",
    "plt.show()"
   ]
  },
  {
   "cell_type": "code",
   "execution_count": null,
   "id": "e26593ce",
   "metadata": {},
   "outputs": [],
   "source": []
  }
 ],
 "metadata": {
  "kernelspec": {
   "display_name": "Python 3 (ipykernel)",
   "language": "python",
   "name": "python3"
  },
  "language_info": {
   "codemirror_mode": {
    "name": "ipython",
    "version": 3
   },
   "file_extension": ".py",
   "mimetype": "text/x-python",
   "name": "python",
   "nbconvert_exporter": "python",
   "pygments_lexer": "ipython3",
   "version": "3.9.12"
  }
 },
 "nbformat": 4,
 "nbformat_minor": 5
}
